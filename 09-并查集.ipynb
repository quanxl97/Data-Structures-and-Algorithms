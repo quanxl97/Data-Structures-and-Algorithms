{
 "cells": [
  {
   "cell_type": "markdown",
   "metadata": {},
   "source": [
    "# 并查集--Union Find\n",
    "模板度很高的一种算法  \n",
    "Union: 合并两个元素为同一根节点  \n",
    "Find: 找到某个元素的根节点\n"
   ]
  },
  {
   "cell_type": "markdown",
   "metadata": {},
   "source": [
    "## 模板"
   ]
  },
  {
   "cell_type": "code",
   "execution_count": 4,
   "metadata": {},
   "outputs": [],
   "source": [
    "class UnionFind:\n",
    "    def __init__(self, grid): #list[list[str]]) -> int:\n",
    "            row = len(grid)\n",
    "            col = len(grid[0])\n",
    "            self.root = [-1] * (row*col)\n",
    "            for i in range(row*col):  # 初始化根节点\n",
    "                self.root[i] = i\n",
    "                \n",
    "    def find(self, x):\n",
    "        if x == self.root[x]:\n",
    "            return x\n",
    "        else:\n",
    "            return self.find(self.root[x])  # 递归调用\n",
    "        \n",
    "    def unoin(self, x, y):\n",
    "        x_root = self.find(x)\n",
    "        y_root = self.find(y)\n",
    "        if x_root != y_root:  # 根节点不相同处理\n",
    "            self.root[x_root] = y_root  # 把x的根节点改成y的根节点\n",
    "        "
   ]
  },
  {
   "cell_type": "markdown",
   "metadata": {},
   "source": [
    "## 并查集优化\n",
    "Union Find Inprovement  \n",
    "quick union  合并根节点——思想——防止树太深  \n",
    "quick find  主要是用到递归\n",
    "\n",
    "quick union 的原理： 权重（压缩路径）  \n",
    "比较两棵树的高度，将矮的树连接到高的树上，使树的高度最低"
   ]
  },
  {
   "cell_type": "markdown",
   "metadata": {},
   "source": [
    "## 并查集优化模板"
   ]
  },
  {
   "cell_type": "code",
   "execution_count": null,
   "metadata": {},
   "outputs": [],
   "source": [
    "class UnionFindInprovement:\n",
    "    def __init__(self, grid):\n",
    "        row = len(grid)\n",
    "        col = len(grid[0])\n",
    "        self.root = [-1] * (row*col)\n",
    "        self.rank = [0] * (row*col)  # 实际使用时还需要初始化每个元素的根节点对应的树的深度----有点绕\n",
    "        for i in range(row*col):  # 初始化每个元素的根节点\n",
    "            self.root[i] = i\n",
    "    \n",
    "    def find(self, x):\n",
    "        if x == self.root[x]:\n",
    "            return x\n",
    "        else:\n",
    "            self.root[x] = self.find(self.root[x])  # 递归查找x的根节点\n",
    "            return self.root[x]\n",
    "    \n",
    "    def union(self, x, y):\n",
    "        x_root = self.find(x)   # self.root[x]\n",
    "        y_root = self.find(y)\n",
    "        if x_root != y_root:  # 对比两棵树的深度\n",
    "            # 树x_root更深，将树y_root加到树x_root上，将y_root改成x_root\n",
    "            if self.rank[x_root] > self.rank[y_root]:  \n",
    "                self.root[y_root] = x_root  # 直接修改根节点的值,对应的其他节点的根节点才会改变              \n",
    "            elif self.rank[x_root] < self.rank[x_root]:\n",
    "                self.root[x_root] = y_root\n",
    "            else:   # 两棵树一样深，将树y_root加到树x_root,并将x_root的深度加1\n",
    "                self.root[y_root] = x_root    \n",
    "                self.rank[x_root] += 1  # 树x_root的深度加1"
   ]
  },
  {
   "cell_type": "markdown",
   "metadata": {},
   "source": [
    "## leetcode 题目\n",
    "200  岛屿数量  \n",
    "547  朋友圈"
   ]
  },
  {
   "cell_type": "code",
   "execution_count": null,
   "metadata": {},
   "outputs": [],
   "source": []
  }
 ],
 "metadata": {
  "kernelspec": {
   "display_name": "Python 3",
   "language": "python",
   "name": "python3"
  },
  "language_info": {
   "codemirror_mode": {
    "name": "ipython",
    "version": 3
   },
   "file_extension": ".py",
   "mimetype": "text/x-python",
   "name": "python",
   "nbconvert_exporter": "python",
   "pygments_lexer": "ipython3",
   "version": "3.7.4"
  }
 },
 "nbformat": 4,
 "nbformat_minor": 4
}
