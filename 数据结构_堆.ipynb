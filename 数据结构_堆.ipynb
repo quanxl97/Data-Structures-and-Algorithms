{
 "cells": [
  {
   "cell_type": "markdown",
   "metadata": {},
   "source": [
    "# 堆\n",
    "## 基本介绍  \n",
    "一种二叉树结构，堆是一种完全二叉树  \n",
    "堆必须满足每个节点的值都要大于或者小雨该节点的孩子节点  \n",
    "最大堆：根节点的值最大  \n",
    "最小堆：根节点的值最小  \n",
    "\n",
    "## 应用场景\n",
    "求k个最大或最小元素\n",
    "\n",
    "## 数组的堆化操作\n"
   ]
  },
  {
   "cell_type": "code",
   "execution_count": 4,
   "metadata": {},
   "outputs": [
    {
     "name": "stdout",
     "output_type": "stream",
     "text": [
      "1\n",
      "6\n",
      "[2, 4, 3, 8, 7, 5]\n"
     ]
    }
   ],
   "source": [
    "# python\n",
    "import heapq\n",
    "minheap = [1,2,3,4,7,5]  # python中自带的只有最小堆\n",
    "heapq.heapify(minheap)  # 堆化\n",
    "heapq.heappush(minheap, 8)  # 添加元素\n",
    "print(minheap[0])  # 堆顶元素\n",
    "heapq.heappop(minheap)  # 删除堆顶元素\n",
    "print(len(minheap))# 堆的长度\n",
    "print(minheap)"
   ]
  },
  {
   "cell_type": "markdown",
   "metadata": {},
   "source": [
    "python最大堆创建技巧：不直接创建，需要将数组中的每个元素取负号，然后创建最小堆，再取负号，\n",
    "即可创建最大堆"
   ]
  },
  {
   "cell_type": "markdown",
   "metadata": {},
   "source": []
  }
 ],
 "metadata": {
  "kernelspec": {
   "display_name": "Python 3",
   "language": "python",
   "name": "python3"
  },
  "language_info": {
   "codemirror_mode": {
    "name": "ipython",
    "version": 3
   },
   "file_extension": ".py",
   "mimetype": "text/x-python",
   "name": "python",
   "nbconvert_exporter": "python",
   "pygments_lexer": "ipython3",
   "version": "3.7.4"
  }
 },
 "nbformat": 4,
 "nbformat_minor": 4
}
