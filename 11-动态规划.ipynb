{
 "cells": [
  {
   "cell_type": "markdown",
   "metadata": {},
   "source": [
    "# 动态规划\n",
    "Dynamic programic\n",
    "\n",
    "## 【基本描述】\n",
    "一种特殊的分治思想，可以实现时间复杂度的优化。  \n",
    "利用历史记录，来避免重复计算。历史记录信息需要一些变量来保存，一般是一维数组或者二维数组。  \n",
    "\n",
    "## 【应用场景】\n",
    "分治：最优子结构  \n",
    "动态规划：最优子结构、重叠子问题  \n",
    "贪心：最优子结构、重叠子问题、贪心选择性质  \n",
    "\n",
    "动态规划是一种特殊的分治，贪心是一种特殊的动态规划  \n",
    "\n",
    "\n",
    "## 【动态规划步骤】\n",
    "1·定义数组元素的含义，数组 dp[]  \n",
    "2·找出数组元素之间的关系式，核心  \n",
    "3·找出初始值, dp[0], dp[1], dp[2],注意，初始值一定不要找漏了  \n",
    "动态规划的问题最终提炼为，由初始值dp[0],dp[1],dp[2]等初始值，寻找目标值dp[n]的过程。  \n",
    "\n",
    "## 【栗子1】\n",
    "爬楼梯  \n",
    "Leetcode-70  \n",
    "\n",
    "## 【伪代码】\n",
    "1·特例，n为0，1，2等初始条件时的返回值  \n",
    "2·定义一个空的dp[]数组  \n",
    "3·写出数组元素间的关系式对应的代码，填充数组  \n",
    "4·返回值处理  "
   ]
  },
  {
   "cell_type": "code",
   "execution_count": null,
   "metadata": {},
   "outputs": [],
   "source": [
    "\n"
   ]
  }
 ],
 "metadata": {
  "kernelspec": {
   "display_name": "Python 3",
   "language": "python",
   "name": "python3"
  },
  "language_info": {
   "codemirror_mode": {
    "name": "ipython",
    "version": 3
   },
   "file_extension": ".py",
   "mimetype": "text/x-python",
   "name": "python",
   "nbconvert_exporter": "python",
   "pygments_lexer": "ipython3",
   "version": "3.7.4"
  }
 },
 "nbformat": 4,
 "nbformat_minor": 4
}
