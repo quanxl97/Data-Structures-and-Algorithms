{
 "cells": [
  {
   "cell_type": "markdown",
   "metadata": {},
   "source": [
    "# 递归\n",
    "Recursion \n",
    "\n",
    "## 【描述】\n",
    "函数直接或间接自己调用自己\n",
    "\n",
    "## 【四要素】\n",
    "参数  \n",
    "终止条件  \n",
    "返回值  \n",
    "拆解条件  \n",
    "\n",
    "## 【例子】\n",
    "斐波那契数列\n",
    "\n",
    "## 【应用场景】\n",
    "与回溯、深度优先搜索、分治法等结合使用\n",
    "\n",
    "时间复杂度O(2**N)  \n",
    "空间复杂度O(N)，用到了递归栈\n",
    "\n",
    "## 【初级应用】\n",
    "反转链表、反转字符串  \n",
    "实际面试中经常会出现与递归相关的很难的题目\n",
    "\n"
   ]
  },
  {
   "cell_type": "code",
   "execution_count": null,
   "metadata": {},
   "outputs": [],
   "source": []
  }
 ],
 "metadata": {
  "kernelspec": {
   "display_name": "Python 3",
   "language": "python",
   "name": "python3"
  },
  "language_info": {
   "codemirror_mode": {
    "name": "ipython",
    "version": 3
   },
   "file_extension": ".py",
   "mimetype": "text/x-python",
   "name": "python",
   "nbconvert_exporter": "python",
   "pygments_lexer": "ipython3",
   "version": "3.7.4"
  }
 },
 "nbformat": 4,
 "nbformat_minor": 4
}
