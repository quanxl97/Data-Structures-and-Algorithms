{
 "cells": [
  {
   "cell_type": "markdown",
   "metadata": {},
   "source": [
    "# 双指针\n",
    "\n",
    "这里的指针不同于C， C++中的指针，是一种算法思想\n",
    "\n",
    "\n",
    "普通双指针  \n",
    "对撞双指针：一头一尾，输入有序数组，两数之和\n",
    "\n",
    "## 【快慢双指针】\n",
    "【场景1】  \n",
    "检查是否是循环链表  \n",
    "【场景2】  \n",
    "有序数组去重，leetcode-26，很有参考性的一个题目\n"
   ]
  },
  {
   "cell_type": "code",
   "execution_count": null,
   "metadata": {},
   "outputs": [],
   "source": []
  }
 ],
 "metadata": {
  "kernelspec": {
   "display_name": "Python 3",
   "language": "python",
   "name": "python3"
  },
  "language_info": {
   "codemirror_mode": {
    "name": "ipython",
    "version": 3
   },
   "file_extension": ".py",
   "mimetype": "text/x-python",
   "name": "python",
   "nbconvert_exporter": "python",
   "pygments_lexer": "ipython3",
   "version": "3.7.4"
  }
 },
 "nbformat": 4,
 "nbformat_minor": 4
}
