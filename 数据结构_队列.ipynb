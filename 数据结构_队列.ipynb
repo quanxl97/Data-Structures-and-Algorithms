{
 "cells": [
  {
   "cell_type": "markdown",
   "metadata": {},
   "source": [
    "# 队列--Queue\n",
    "## 特点\n",
    "先入先出\n",
    "## 常见结构\n",
    "单端队列：只有一个出口，一个入口，即管道的两端只能一头进，另一头出   \n",
    "双端队列：有两个入口，两个出口，即管道的两端都既可以做为出口，也可以做为入口  \n",
    "实际使用中，目前单端队列使用较多  \n",
    "## 注意区分的数据结构--栈--Stack\n",
    "栈的特点是先入后出\n",
    "## 相关算法\n",
    "BFS--宽度优先搜索。基本上队列与宽度优先搜索是绑在一起使用的。  "
   ]
  },
  {
   "cell_type": "markdown",
   "metadata": {},
   "source": [
    "## 队列的基本操作"
   ]
  },
  {
   "cell_type": "code",
   "execution_count": 14,
   "metadata": {},
   "outputs": [
    {
     "name": "stdout",
     "output_type": "stream",
     "text": [
      "deque([])\n",
      "deque([1, 2, 3, 5])\n",
      "1\n",
      "deque([2, 3, 5])\n",
      "5\n",
      "deque([2, 3])\n",
      "2\n"
     ]
    }
   ],
   "source": [
    "# 创建队列\n",
    "from collections import deque  # deque 是python标准库collections中的一个类，可以实现双端队列的操作\n",
    "queue = deque()\n",
    "print(queue)\n",
    "# 添加元素\n",
    "queue.append(1)\n",
    "queue.append(2)\n",
    "queue.append(3)\n",
    "queue.append(5)\n",
    "print(queue)\n",
    "# 删除元素\n",
    "temp = queue.popleft()  # 注意出队列的方式，popleft()的是先进来的元素\n",
    "print(temp)\n",
    "print(queue)\n",
    "temp = queue.pop()  # pop()的是后进来的元素，注意与上面popleft()的区别\n",
    "print(temp)\n",
    "print(queue)\n",
    "# 队列的长度\n",
    "queue_size = len(queue)\n",
    "print(queue_size)"
   ]
  },
  {
   "cell_type": "code",
   "execution_count": 2,
   "metadata": {},
   "outputs": [],
   "source": [
    "# # 队列的另一种写法\n",
    "# from queue import queue\n",
    "# q = Queue()\n",
    "# q.put((0,0))  # 入队\n",
    "# x,y = q.get()  # 读取并出队列"
   ]
  },
  {
   "cell_type": "markdown",
   "metadata": {},
   "source": [
    "## 进阶操作\n",
    "用python的list构建队列类"
   ]
  },
  {
   "cell_type": "code",
   "execution_count": null,
   "metadata": {},
   "outputs": [],
   "source": []
  }
 ],
 "metadata": {
  "kernelspec": {
   "display_name": "Python 3",
   "language": "python",
   "name": "python3"
  },
  "language_info": {
   "codemirror_mode": {
    "name": "ipython",
    "version": 3
   },
   "file_extension": ".py",
   "mimetype": "text/x-python",
   "name": "python",
   "nbconvert_exporter": "python",
   "pygments_lexer": "ipython3",
   "version": "3.7.4"
  }
 },
 "nbformat": 4,
 "nbformat_minor": 4
}
