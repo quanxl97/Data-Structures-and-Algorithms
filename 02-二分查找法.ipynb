{
 "cells": [
  {
   "cell_type": "markdown",
   "metadata": {},
   "source": [
    "# 二分查找法\n",
    "\n",
    "【描述】  \n",
    "一个很经典的算法，是严格意义上的算法。\n",
    "\n",
    "\n",
    "【应用场景】  \n",
    "常常结合双指针一起使用，另外在数组中比较常用，并且一般要求数组元素是按照顺序进行排列的。  \n",
    "数组有序排列\n",
    "\n"
   ]
  },
  {
   "cell_type": "code",
   "execution_count": null,
   "metadata": {},
   "outputs": [],
   "source": []
  }
 ],
 "metadata": {
  "kernelspec": {
   "display_name": "Python 3",
   "language": "python",
   "name": "python3"
  },
  "language_info": {
   "codemirror_mode": {
    "name": "ipython",
    "version": 3
   },
   "file_extension": ".py",
   "mimetype": "text/x-python",
   "name": "python",
   "nbconvert_exporter": "python",
   "pygments_lexer": "ipython3",
   "version": "3.7.4"
  }
 },
 "nbformat": 4,
 "nbformat_minor": 4
}
