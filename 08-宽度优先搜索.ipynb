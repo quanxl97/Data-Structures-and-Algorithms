{
 "cells": [
  {
   "cell_type": "markdown",
   "metadata": {},
   "source": [
    "# 宽度优先搜索--BFS\n",
    "## 核心思想   \n",
    "层层递进，一层一层遍历  \n",
    "## 主要应用\n",
    "二叉树搜索  \n",
    "图搜索\n",
    "## 使用方法\n",
    "一般会结合队列一起使用，队列的特点：先入先出\n",
    "\n",
    "## 模板\n",
    "\n",
    "\n",
    "## leetcode题目\n",
    "102  二叉树层序遍历  \n",
    "107 二叉树层序遍历-2  \n",
    "200  岛屿的数量  \n"
   ]
  },
  {
   "cell_type": "code",
   "execution_count": null,
   "metadata": {},
   "outputs": [],
   "source": [
    "\n",
    "# BFS 模板--结合队列--以二叉树搜索为例\n",
    "queue = deque()  # 先定义一个队列\n",
    "queue.append(root)  # 初始化队列，即将根节点放入队列中\n",
    "result = 0  # 用于存放结果，可以定义为常数、数组、集合等\n",
    "\n",
    "while len(queue)>0:   #队列不为空，就一直进行搜索循环 \n",
    "# while not queue.empty(): \n",
    "    temp_node = queue.popleft()  # 读取队列出口的元素\n",
    "    if (搜索条件):\n",
    "        result += 1  # 对应的搜做操作\n",
    "        # 将当前节点的左右节点（如果存在）加入到队列中，使循环继续\n",
    "        queue.append(temp_node.left)\n",
    "        queue.append(temp_node.reght)\n",
    "        \n",
    "return result\n",
    "    "
   ]
  }
 ],
 "metadata": {
  "kernelspec": {
   "display_name": "Python 3",
   "language": "python",
   "name": "python3"
  },
  "language_info": {
   "codemirror_mode": {
    "name": "ipython",
    "version": 3
   },
   "file_extension": ".py",
   "mimetype": "text/x-python",
   "name": "python",
   "nbconvert_exporter": "python",
   "pygments_lexer": "ipython3",
   "version": "3.7.4"
  }
 },
 "nbformat": 4,
 "nbformat_minor": 4
}
