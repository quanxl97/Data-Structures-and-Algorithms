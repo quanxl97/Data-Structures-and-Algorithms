{
 "cells": [
  {
   "cell_type": "markdown",
   "metadata": {},
   "source": [
    "# 贪心算法\n",
    "\n",
    "基本思想  \n",
    "每一步取当前最优解，最终进行合并每个子解    \n",
    "贪心算法会结合回溯或者别的算法进行使用  \n",
    "贪心算法的基本思想比较简单，但是融合其他算法进行使用时，会比较难想到  \n",
    "\n",
    "322  零钱兑换  \n",
    "1217  玩筹码  \n",
    "55  跳跃游戏"
   ]
  }
 ],
 "metadata": {
  "kernelspec": {
   "display_name": "Python 3",
   "language": "python",
   "name": "python3"
  },
  "language_info": {
   "codemirror_mode": {
    "name": "ipython",
    "version": 3
   },
   "file_extension": ".py",
   "mimetype": "text/x-python",
   "name": "python",
   "nbconvert_exporter": "python",
   "pygments_lexer": "ipython3",
   "version": "3.7.4"
  }
 },
 "nbformat": 4,
 "nbformat_minor": 4
}
