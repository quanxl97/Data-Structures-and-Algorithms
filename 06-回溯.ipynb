{
 "cells": [
  {
   "cell_type": "markdown",
   "metadata": {},
   "source": [
    "# 回溯"
   ]
  },
  {
   "cell_type": "markdown",
   "metadata": {},
   "source": [
    "backtracking, 一种特殊的递归  \n",
    "类似枚举，一层一层向下递归，尝试寻找答案。如果找到答案，则返回答案，同时还要尝试别的可能，如果找不到答案，则返回上一层递归，尝试别的路径。  \n",
    "leetcode一般是中等、困难题"
   ]
  },
  {
   "cell_type": "markdown",
   "metadata": {},
   "source": [
    "## 核心\n",
    "解决回溯问题，本质上是一个决策树的遍历过程。  \n",
    "需要思考的3个问题：  \n",
    "1·路径：即已经做出的选择  \n",
    "2·选择列表：也就是你当前可以做出的选择  \n",
    "3·结束条件：指到达决策树底层，不能再进一步做出选择的条件  "
   ]
  },
  {
   "cell_type": "markdown",
   "metadata": {},
   "source": [
    "## 特点  \n",
    "回溯算法不像动态规划，动态规划中存在重叠子问题可以优化，回溯算法就是纯暴力穷举，复杂度一般都很高，其时间复杂度不可能低于O(N!)"
   ]
  },
  {
   "cell_type": "markdown",
   "metadata": {},
   "source": [
    "## 算法框架"
   ]
  },
  {
   "cell_type": "code",
   "execution_count": 3,
   "metadata": {
    "scrolled": true
   },
   "outputs": [],
   "source": [
    "# result = []\n",
    "# def backtrack(路径， 选择列表)：\n",
    "#     if 满足条件：\n",
    "#         Result.add(路径)\n",
    "#         Return\n",
    "#     for 选择 in 选择列表：\n",
    "#         做选择\n",
    "#         将选择从选择列表移除\n",
    "#         路径.add（选择）\n",
    "#         backtrack(路径， 选择列表)  # 递归调用\n",
    "#         撤销选择\n",
    "#         路径.remove（选择）\n",
    "#         将该选择再加入选择列表"
   ]
  },
  {
   "cell_type": "markdown",
   "metadata": {},
   "source": [
    "这里的核心就是for循环中的递归，在递归调用之前【做选择】，在递归调用之后【撤销选择】。  \n",
    "在递归之前做出选择，在递归之后撤销刚才的选择，就能正确得到每个节点的选择列表和路径。\n",
    "  \n",
    "各种树的搜索问题，其实都是树的遍历问题。\n",
    "\n",
    "结合问题进行理解"
   ]
  },
  {
   "cell_type": "markdown",
   "metadata": {},
   "source": [
    "## 栗子 全排列  \n",
    "Leetcode-46  \n",
    "给定数组[1,2,3]，进行全排列  "
   ]
  },
  {
   "cell_type": "markdown",
   "metadata": {},
   "source": [
    "## 栗子 子集  \n",
    "leetcode-78  \n",
    "找数组[1,2,3]所有的子集  \n",
    "子集的长度0，1，2，3  \n"
   ]
  },
  {
   "cell_type": "markdown",
   "metadata": {},
   "source": [
    "## 栗子 N皇后  \n",
    "\n"
   ]
  },
  {
   "cell_type": "markdown",
   "metadata": {},
   "source": [
    "## 数独"
   ]
  },
  {
   "cell_type": "markdown",
   "metadata": {},
   "source": [
    "## 组合  \n",
    "leetcode-77"
   ]
  }
 ],
 "metadata": {
  "kernelspec": {
   "display_name": "Python 3",
   "language": "python",
   "name": "python3"
  },
  "language_info": {
   "codemirror_mode": {
    "name": "ipython",
    "version": 3
   },
   "file_extension": ".py",
   "mimetype": "text/x-python",
   "name": "python",
   "nbconvert_exporter": "python",
   "pygments_lexer": "ipython3",
   "version": "3.7.4"
  }
 },
 "nbformat": 4,
 "nbformat_minor": 4
}
