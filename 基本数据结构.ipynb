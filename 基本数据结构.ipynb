{
 "cells": [
  {
   "cell_type": "markdown",
   "metadata": {},
   "source": [
    "# 数组"
   ]
  },
  {
   "cell_type": "markdown",
   "metadata": {},
   "source": [
    "# 链表\n",
    "Linkedlist  \n",
    "基本概念：节点，单端链表，双端链表  \n",
    "元素加指针构成链表的每一个节点  \n",
    "特点：读少写多  \n",
    "基本操作：创建链表、添加元素、访问、搜索、插入、删除、链表长度  \n",
    "\n",
    "基础题型：链表元素删除、链表反转    \n",
    "基于链表的常见算法：递归、迭代  \n",
    "进阶操作：将链表写成一个函数类，实现增减、删除节点等操作  "
   ]
  },
  {
   "cell_type": "markdown",
   "metadata": {},
   "source": [
    "## 链表类实现"
   ]
  },
  {
   "cell_type": "code",
   "execution_count": null,
   "metadata": {},
   "outputs": [],
   "source": [
    "# definition for singly-linked list:\n",
    "class ListNode:\n",
    "    def __init__(self, val=0, next=None):\n",
    "        self.val = val\n",
    "        self.next = next"
   ]
  },
  {
   "cell_type": "markdown",
   "metadata": {},
   "source": [
    "## 链表题总结\n",
    "反转链表，旋转链表，队链表的顺序调整等，最好能先写出链表节点之间的指向关系，这个地方容易混乱！"
   ]
  },
  {
   "cell_type": "markdown",
   "metadata": {},
   "source": [
    "## 【哈希表】\n",
    "基本元素是键值队，每个元素由key：value构成。  \n",
    "常用基本操作：  \n",
    "创建哈希表，mapping = {} 或者 hashTable = [‘’]**4  \n",
    "添加元素，mapping[1] = ‘hash’  \n",
    "修改元素，mapping[1] = ‘hashTable’  \n",
    "删除元素，mapping.pop(1) 或者 delete mapping[1] 或者 hashTable[1] = ‘’  \n",
    "获取元素，mapping[1]  \n",
    "检查key值是否存在， 3 in mapping，不是value值  \n",
    "哈希表的长度，len(maping)  \n",
    "\n",
    "hash_table[1] = hash_table.get(1) + 1  \n"
   ]
  },
  {
   "cell_type": "markdown",
   "metadata": {},
   "source": [
    "## 【栈】\n",
    "Stack  \n",
    "核心：先进后出，浏览器后退功能\n",
    "\n",
    "基本操作：  \n",
    "访问（栈顶元素）、搜索、插入、删除（栈顶元素）  \n",
    "栈的长度、栈是否为空、遍历  \n",
    "\n",
    "Stack = []  \n",
    "Stack.append()  \n",
    "Temp = stack.pop()  \n",
    "\n",
    "应用：  \n",
    "栈经常和哈希表一起使用  \n"
   ]
  }
 ],
 "metadata": {
  "kernelspec": {
   "display_name": "Python 3",
   "language": "python",
   "name": "python3"
  },
  "language_info": {
   "codemirror_mode": {
    "name": "ipython",
    "version": 3
   },
   "file_extension": ".py",
   "mimetype": "text/x-python",
   "name": "python",
   "nbconvert_exporter": "python",
   "pygments_lexer": "ipython3",
   "version": "3.7.4"
  }
 },
 "nbformat": 4,
 "nbformat_minor": 4
}
