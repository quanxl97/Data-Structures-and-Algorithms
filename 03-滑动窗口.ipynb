{
 "cells": [
  {
   "cell_type": "markdown",
   "metadata": {},
   "source": [
    "# 滑动窗口\n",
    "\n",
    "## 【描述】\n",
    "严格意义上的一个技巧，不算是算法的范畴。\n",
    "\n",
    "## 【应用场景】\n",
    "数组中的定长问题\n",
    "\n",
    "\n",
    "## 【使用技巧】\n",
    "变滑动窗口，使用双指针。参考leetcode-209-中等  \n",
    "双指针是一个很好的辅助工具，在很多场景中都可以使用，包括二分查找、滑动窗口等\n"
   ]
  },
  {
   "cell_type": "code",
   "execution_count": null,
   "metadata": {},
   "outputs": [],
   "source": []
  }
 ],
 "metadata": {
  "kernelspec": {
   "display_name": "Python 3",
   "language": "python",
   "name": "python3"
  },
  "language_info": {
   "codemirror_mode": {
    "name": "ipython",
    "version": 3
   },
   "file_extension": ".py",
   "mimetype": "text/x-python",
   "name": "python",
   "nbconvert_exporter": "python",
   "pygments_lexer": "ipython3",
   "version": "3.7.4"
  }
 },
 "nbformat": 4,
 "nbformat_minor": 4
}
