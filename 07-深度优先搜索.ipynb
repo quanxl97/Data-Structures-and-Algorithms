{
 "cells": [
  {
   "cell_type": "markdown",
   "metadata": {},
   "source": [
    "# 深度优先搜索  DFS"
   ]
  },
  {
   "cell_type": "markdown",
   "metadata": {},
   "source": [
    "用到了递归思想--分治法--回溯法--DFS：从root节点开始，尽可能深的搜索每一个分支，\n",
    "（把每一个分支的结尾搜索完，再去看下一个分支，不撞南墙不回头，一条路走到底）"
   ]
  },
  {
   "cell_type": "markdown",
   "metadata": {},
   "source": [
    "## 应用场景  \n",
    "二叉树搜索  \n",
    "图搜索  (二维数组搜索：岛屿的数量)"
   ]
  },
  {
   "cell_type": "markdown",
   "metadata": {},
   "source": [
    "## 深度优先搜索DFS、广度优先搜索BFS  \n",
    "### 比较\n",
    "\n",
    "### 时间复杂度\n",
    "都是O(N)\n",
    "\n",
    "### 空间复杂度\n",
    "都是O(N)"
   ]
  },
  {
   "cell_type": "markdown",
   "metadata": {},
   "source": [
    "## 算法实现\n",
    "### 递归实现"
   ]
  },
  {
   "cell_type": "code",
   "execution_count": null,
   "metadata": {},
   "outputs": [],
   "source": [
    "# def def(x, y):\n",
    "#     if 达到出口 or 无法继续：\n",
    "#         相应操作\n",
    "#         return\n",
    "#     if 对应x方向的下一步可以继续：\n",
    "#         添加标记  # 给该位置记上标记，如果后续递归调用碰上了这个点，则该方向不能继续下一步\n",
    "#         dfs(x+1,y)  # 递归调用\n",
    "#         取消标记  # 上一步对用的递归操作全部结束，则要取消标记对后续操作的影响\n",
    "#     elif 对应y方向的下一步可以继续：\n",
    "#         添加标记\n",
    "#         dfs(x,y+1)\n",
    "#         取消标记"
   ]
  },
  {
   "cell_type": "markdown",
   "metadata": {},
   "source": [
    "### 栈实现  \n",
    "\n",
    "递归实现，比栈实现更加常用"
   ]
  },
  {
   "cell_type": "markdown",
   "metadata": {},
   "source": [
    "## 栗子 走迷宫"
   ]
  },
  {
   "cell_type": "markdown",
   "metadata": {},
   "source": [
    "## 栗子 子集\n",
    "leetcode 78 子集"
   ]
  },
  {
   "cell_type": "markdown",
   "metadata": {},
   "source": [
    "DFS和回溯算法的区别  \n",
    "回溯算法 = DFS + 剪枝  \n",
    "DFS，每个边都走完，再回溯，\n"
   ]
  },
  {
   "cell_type": "markdown",
   "metadata": {},
   "source": [
    "## leetcode 练习题  \n",
    "938  二叉搜索树的范围和 Range Sum of BST  \n",
    "78  子集  Subsets  \n",
    "200  岛屿的数量   Number of Islands"
   ]
  },
  {
   "cell_type": "code",
   "execution_count": null,
   "metadata": {},
   "outputs": [],
   "source": []
  },
  {
   "cell_type": "code",
   "execution_count": null,
   "metadata": {},
   "outputs": [],
   "source": []
  }
 ],
 "metadata": {
  "kernelspec": {
   "display_name": "Python 3",
   "language": "python",
   "name": "python3"
  },
  "language_info": {
   "codemirror_mode": {
    "name": "ipython",
    "version": 3
   },
   "file_extension": ".py",
   "mimetype": "text/x-python",
   "name": "python",
   "nbconvert_exporter": "python",
   "pygments_lexer": "ipython3",
   "version": "3.7.4"
  }
 },
 "nbformat": 4,
 "nbformat_minor": 4
}
