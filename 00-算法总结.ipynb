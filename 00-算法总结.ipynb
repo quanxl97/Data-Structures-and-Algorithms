{
 "cells": [
  {
   "cell_type": "markdown",
   "metadata": {},
   "source": [
    "# 算法总结\n",
    "## 二叉树\n",
    "树的遍历  \n",
    "\n",
    "## 不同算法的区别与联系\n",
    "递归--分治法--回溯--DFS--BFS\n",
    "\n",
    "分治法--动态规划--贪心\n",
    "\n",
    "递归--并查集  \n",
    "\n",
    "递归--回溯--动态规划  \n",
    "\n",
    "双指针--二分查找法\n",
    "\n",
    "双指针--滑动窗口\n",
    "\n"
   ]
  },
  {
   "cell_type": "markdown",
   "metadata": {},
   "source": [
    "## 算法记忆化\n",
    "目的：减少重复计算，降低时间复杂度\n",
    "\n",
    "509 斐波那契数列  \n",
    "322 零钱兑换"
   ]
  },
  {
   "cell_type": "markdown",
   "metadata": {},
   "source": [
    "## 动态规划\n",
    "53 最大子序和  \n",
    "70 爬楼梯  \n",
    "198 打家劫舍  \n",
    "121 买卖股票的最佳时机"
   ]
  }
 ],
 "metadata": {
  "kernelspec": {
   "display_name": "Python 3",
   "language": "python",
   "name": "python3"
  },
  "language_info": {
   "codemirror_mode": {
    "name": "ipython",
    "version": 3
   },
   "file_extension": ".py",
   "mimetype": "text/x-python",
   "name": "python",
   "nbconvert_exporter": "python",
   "pygments_lexer": "ipython3",
   "version": "3.7.4"
  }
 },
 "nbformat": 4,
 "nbformat_minor": 4
}
