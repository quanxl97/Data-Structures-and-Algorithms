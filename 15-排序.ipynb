{
 "cells": [
  {
   "cell_type": "markdown",
   "metadata": {},
   "source": [
    "# 排序"
   ]
  },
  {
   "cell_type": "markdown",
   "metadata": {},
   "source": [
    "参考 https://www.bilibili.com/video/BV1dx411S74x?from=search&seid=2595148660203291383"
   ]
  },
  {
   "cell_type": "markdown",
   "metadata": {},
   "source": [
    "## 冒泡排序"
   ]
  },
  {
   "cell_type": "code",
   "execution_count": 11,
   "metadata": {},
   "outputs": [
    {
     "name": "stdout",
     "output_type": "stream",
     "text": [
      "[1, 2, 3, 3, 5, 6, 6, 6, 7, 8, 9, 9, 44, 90]\n"
     ]
    }
   ],
   "source": [
    "# 冒泡排序--两两相邻作比较，每遍历一次，找到最大的元素放到最后\n",
    "nums = [9, 5, 6, 7, 6, 6, 9, 3, 8, 1, 2, 3, 44, 90]\n",
    "n = len(nums)\n",
    "for i in range(n-1):\n",
    "    for j in range(n-i-1):\n",
    "        if nums[j] > nums[j+1]:\n",
    "            nums[j], nums[j+1] = nums[j+1], nums[j]\n",
    "print(nums) \n",
    "# 时间O(N**2)  空间O(1)"
   ]
  },
  {
   "cell_type": "markdown",
   "metadata": {},
   "source": [
    "## 选择排序"
   ]
  },
  {
   "cell_type": "code",
   "execution_count": 17,
   "metadata": {},
   "outputs": [
    {
     "name": "stdout",
     "output_type": "stream",
     "text": [
      "[1, 2, 3, 3, 5, 6, 6, 6, 7, 8, 9, 9, 44, 90]\n"
     ]
    }
   ],
   "source": [
    "# 选择排序--每次选出最大的元素，和最后一位进行交换\n",
    "nums = [9, 5, 6, 7, 6, 6, 9, 3, 8, 1, 2, 3, 44, 90]\n",
    "def FindMaxIndex(arr):\n",
    "    n = len(arr)\n",
    "    max = arr[0]\n",
    "    max_index = 0\n",
    "    for i in range(n):\n",
    "        if arr[i] > max:\n",
    "            max = arr[i]\n",
    "            max_index = i\n",
    "    return max_index\n",
    "        \n",
    "for i in range(n-1):\n",
    "    max_index = FindMaxIndex(nums[0:n-i])\n",
    "    nums[max_index], nums[n-i-1] = nums[n-i-1], nums[max_index]\n",
    "print(nums)"
   ]
  },
  {
   "cell_type": "markdown",
   "metadata": {},
   "source": [
    "## 插入排序"
   ]
  },
  {
   "cell_type": "code",
   "execution_count": 23,
   "metadata": {},
   "outputs": [
    {
     "name": "stdout",
     "output_type": "stream",
     "text": [
      "[1, 2, 3, 3, 5, 6, 6, 6, 7, 8, 9, 9, 44, 90]\n"
     ]
    }
   ],
   "source": [
    "# 插入排序--在一段已经排好顺序的序列中逐个插入新的元素\n",
    "nums = [9, 5, 6, 7, 6, 6, 9, 3, 8, 1, 2, 3, 44, 90]\n",
    "def insert(arr): ## len(arr)>=2\n",
    "    n = len(arr)\n",
    "    i = n-1\n",
    "    while arr[i]<arr[i-1] and i>=1:\n",
    "        arr[i], arr[i-1] = arr[i-1], arr[i]\n",
    "        i -= 1\n",
    "    return arr\n",
    "\n",
    "n = len(nums)\n",
    "key_index = 1\n",
    "while key_index<n:\n",
    "    nums[0:key_index+1] = insert(nums[0:key_index+1])\n",
    "    key_index += 1\n",
    "print(nums)"
   ]
  },
  {
   "cell_type": "markdown",
   "metadata": {},
   "source": [
    "## 归并排序\n",
    "参考 https://www.bilibili.com/video/BV1Pt4y197VZ?from=search&seid=6858709362585028619"
   ]
  },
  {
   "cell_type": "code",
   "execution_count": 1,
   "metadata": {},
   "outputs": [
    {
     "name": "stdout",
     "output_type": "stream",
     "text": [
      "[1, 2, 3, 3, 5, 6, 6, 6, 7, 8, 9, 9, 44, 90]\n"
     ]
    }
   ],
   "source": [
    "# 归并排序--分治法--递归\n",
    "nums = [9, 5, 6, 7, 6, 6, 9, 3, 8, 1, 2, 3, 44, 90]\n",
    "\n",
    "# 合并--排序的核心\n",
    "def merge(arr, temparr, left, mid, right):\n",
    "    # 标记左半区第一个未排序的元素\n",
    "    l_pos = left\n",
    "    # 标记右半区第一个未排序的元素\n",
    "    r_pos = mid+1\n",
    "    # 临时数组元素的下标\n",
    "    pos = left\n",
    "    \n",
    "    # 合并\n",
    "    while l_pos<=mid and r_pos<=right:\n",
    "        if arr[l_pos] < arr[r_pos]:  # 左半区第一个剩余元素更小\n",
    "            temparr[pos] = (arr[l_pos])\n",
    "            pos += 1\n",
    "            l_pos += 1\n",
    "        else:                        # 右半区第一个剩余元素更小\n",
    "            temparr[pos] = (arr[r_pos])\n",
    "            pos += 1\n",
    "            r_pos += 1\n",
    "            \n",
    "    \n",
    "    # 合并左半区剩余元素\n",
    "    while l_pos<=mid:\n",
    "        temparr[pos] = arr[l_pos]\n",
    "        pos += 1\n",
    "        l_pos += 1\n",
    "    \n",
    "    # 合并右半区剩余元素\n",
    "    while r_pos<=right:\n",
    "        temparr[pos] = arr[r_pos]\n",
    "        pos += 1\n",
    "        r_pos += 1\n",
    "    \n",
    "    # 把临时数组中合并后的元素复制回原来的数组\n",
    "    while left<=right:\n",
    "        arr[left] = temparr[left]\n",
    "        left += 1\n",
    "    \n",
    "# 划分 并调用归并排序---这部分的核心是进行递归划分，并在划分到最小单元后进行归并排序，即逐个元素进行归并\n",
    "def msort(arr, temparr, left, right):   \n",
    "    # 如果只有一个元素，不用继续划分\n",
    "    # 只有一个元素的区域，本身就是有序的，只需被归并即可\n",
    "    if left<right:\n",
    "        # 找中间点\n",
    "        mid = (left+right)//2\n",
    "        # 递归划分左半区\n",
    "        msort(arr, temparr, left, mid)\n",
    "        # 递归划分右半区\n",
    "        msort(arr, temparr, mid+1, right)\n",
    "        # 合并已经排序的部分\n",
    "        merge(arr, temparr, left, mid, right)\n",
    "        \n",
    "if __name__ == '__main__':\n",
    "    nums = [9, 5, 6, 7, 6, 6, 9, 3, 8, 1, 2, 3, 44, 90]\n",
    "    n = len(nums)\n",
    "    temparr = [' ']*n  # 临时数组\n",
    "    left, right = 0, n-1\n",
    "    msort(nums, temparr, left, right)\n",
    "    del temparr  # 释放内存\n",
    "    print(nums)\n",
    "    \n",
    "# 时间O(NlogN)"
   ]
  },
  {
   "cell_type": "markdown",
   "metadata": {},
   "source": [
    "##  堆排"
   ]
  },
  {
   "cell_type": "code",
   "execution_count": 31,
   "metadata": {},
   "outputs": [],
   "source": [
    "# 堆排\n",
    "nums = [9, 5, 6, 7, 6, 6, 9, 3, 8, 1, 2, 3, 44, 90]"
   ]
  },
  {
   "cell_type": "markdown",
   "metadata": {},
   "source": [
    "## 快排\n",
    "参考 https://www.bilibili.com/video/BV1bz411e7vY/?spm_id_from=333.788.recommend_more_video.0"
   ]
  },
  {
   "cell_type": "code",
   "execution_count": 14,
   "metadata": {},
   "outputs": [
    {
     "name": "stdout",
     "output_type": "stream",
     "text": [
      "[1, 2, 3, 3, 5, 6, 6, 6, 7, 8, 9, 9, 44, 90]\n"
     ]
    }
   ],
   "source": [
    "# 快排\n",
    "# 用到了分治和递归的思想，并利用指针\n",
    "nums = [9, 5, 6, 7, 6, 6, 9, 3, 8, 1, 2, 3, 44, 90]\n",
    "# 划分函数\n",
    "def quicksort(arr, left, right):\n",
    "#     pivot = arr[left]\n",
    "#     i = left\n",
    "#     j = right\n",
    "#     while i<j:\n",
    "#         while i<j and arr[j]>=pivot:\n",
    "#             j -= 1\n",
    "#         arr[i] = arr[j]\n",
    "#         while i<j and arr[i]<=pivot:\n",
    "#             i += 1\n",
    "#         arr[j] = arr[i]\n",
    "#     arr[j] = pivot\n",
    "#     return i\n",
    "\n",
    "    pivot = arr[right]\n",
    "    i = left\n",
    "    j = right\n",
    "    \n",
    "    while i<j:\n",
    "        while i<j and arr[i]<=pivot:\n",
    "            i += 1\n",
    "        while i<j and arr[j]>=pivot:\n",
    "            j -= 1\n",
    "        arr[i], arr[j] = arr[j], arr[i]\n",
    "    # 把枢纽元素交换到正确位置\n",
    "    arr[i], arr[right] = arr[right], arr[i]\n",
    "    return i   \n",
    "        \n",
    "# 分治-不断划分--使用递归--划分到每段只有一个元素，表示元素在正确的位置\n",
    "def qsort(arr, left, right):\n",
    "    if left<right:\n",
    "        mid = quicksort(arr, left, right)\n",
    "        qsort(arr, left, mid-1)   # 分治--递归\n",
    "        qsort(arr, mid+1, right)\n",
    "        \n",
    "if __name__ == '__main__':\n",
    "    nums = [9, 5, 6, 7, 6, 6, 9, 3, 8, 1, 2, 3, 44, 90]\n",
    "    n = len(nums)\n",
    "    left, right = 0, n-1\n",
    "    qsort(nums, left, right)\n",
    "    print(nums)"
   ]
  },
  {
   "cell_type": "markdown",
   "metadata": {},
   "source": [
    "## 快排-2"
   ]
  },
  {
   "cell_type": "code",
   "execution_count": 6,
   "metadata": {},
   "outputs": [
    {
     "name": "stdout",
     "output_type": "stream",
     "text": [
      "[1, 2, 3, 3, 5, 6, 6, 6, 7, 8, 9, 9, 44, 90]\n"
     ]
    }
   ],
   "source": [
    "def quick_sort(lists,i,j):\n",
    "    if i >= j:\n",
    "        return lists\n",
    "    pivot = lists[i]  # 选取中心元素\n",
    "    low = i\n",
    "    high = j\n",
    "    while i < j:\n",
    "        while i < j and lists[j] >= pivot:\n",
    "            j -= 1\n",
    "        lists[i]=lists[j]\n",
    "        while i < j and lists[i] <=pivot:\n",
    "            i += 1\n",
    "        lists[j]=lists[i]\n",
    "    lists[j] = pivot\n",
    "    quick_sort(lists,low,i-1)\n",
    "    quick_sort(lists,i+1,high)\n",
    "    return lists\n",
    "if __name__ == '__main__':\n",
    "    nums = [9, 5, 6, 7, 6, 6, 9, 3, 8, 1, 2, 3, 44, 90]\n",
    "    n = len(nums)\n",
    "    left, right = 0, n-1\n",
    "    nums = quick_sort(nums, left, right)\n",
    "    print(nums)"
   ]
  },
  {
   "cell_type": "code",
   "execution_count": null,
   "metadata": {},
   "outputs": [],
   "source": []
  }
 ],
 "metadata": {
  "kernelspec": {
   "display_name": "Python 3",
   "language": "python",
   "name": "python3"
  },
  "language_info": {
   "codemirror_mode": {
    "name": "ipython",
    "version": 3
   },
   "file_extension": ".py",
   "mimetype": "text/x-python",
   "name": "python",
   "nbconvert_exporter": "python",
   "pygments_lexer": "ipython3",
   "version": "3.7.4"
  }
 },
 "nbformat": 4,
 "nbformat_minor": 4
}
